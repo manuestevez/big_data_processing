{
  "metadata": {
    "language_info": {
      "codemirror_mode": {
        "name": "python",
        "version": 3
      },
      "file_extension": ".py",
      "mimetype": "text/x-python",
      "name": "python",
      "nbconvert_exporter": "python",
      "pygments_lexer": "ipython3",
      "version": "3.8"
    },
    "kernelspec": {
      "name": "python",
      "display_name": "Python (Pyodide)",
      "language": "python"
    }
  },
  "nbformat_minor": 4,
  "nbformat": 4,
  "cells": [
    {
      "cell_type": "markdown",
      "source": "Entregable del proyecto: Big Data Processing\n\nEnunciado:\n\nTenemos el dataset que contiene el reporte de países y su índice de felicidad en el transcurso de los años (world-happiness-report-2021.csv y world-happiness-report.csv) se les pide a los alumnos desarrollar responder las siguiente preguntas, utilizando las herramientas vistas a lo largo del módulo.\n\nCuestiones:\n\n1. ¿Cuál es el país más “feliz” del 2021 según la data? (considerar que la columna “Ladder score” mayor número más feliz es el país)\n2. ¿Cuál es el país más “feliz” del 2021 por continente según la data?\n3. ¿Cuál es el país que más veces ocupó el primer lugar en todos los años?\n4. ¿Qué puesto de Felicidad tiene el país con mayor GDP del 2020?\n5. ¿En que porcentaje a variado a nivel mundial el GDP promedio del 2020 respecto al 2021? ¿Aumentó o disminuyó?\n6. ¿Cuál es el país con mayor expectativa de vide (“Healthy life expectancy at birth”)? Y ¿Cuánto tenia en ese indicador en el 2019?",
      "metadata": {}
    },
    {
      "cell_type": "markdown",
      "source": "En este caso se va a utilizar el lenguaje de programación Python",
      "metadata": {}
    },
    {
      "cell_type": "markdown",
      "source": "Para poder proceder al una extracción de datos, se han analizado los dataframes a utilizar y se decide hacer una unión de ambos para poder contestar a las preguntas utilizando un solo dataframe, debido a que el general sólo llega hasta el año 2020 y el fichero world-happiness-report-2021.csv, como su nombre indica, tiene la data del año 2021, y también porque luego hay alguna pregunta que pide todos los datos juntos.",
      "metadata": {}
    },
    {
      "cell_type": "markdown",
      "source": "Empezamos cargando el general, que contiene todos los paises y varios años de data de cada país (world-happiness-report.csv)",
      "metadata": {}
    },
    {
      "cell_type": "markdown",
      "source": "Como vamos a utilizar el lenguaje de programación Python, utilizaremos la librería pandas, como librería especializada en data",
      "metadata": {}
    },
    {
      "cell_type": "markdown",
      "source": "",
      "metadata": {}
    },
    {
      "cell_type": "code",
      "source": "import pandas as pd",
      "metadata": {
        "trusted": true
      },
      "execution_count": 61,
      "outputs": []
    },
    {
      "cell_type": "markdown",
      "source": "",
      "metadata": {}
    },
    {
      "cell_type": "markdown",
      "source": "Leemos el primer fichero general (world-happiness-report.csv) y lo guardamos en una variables para luego usarlo",
      "metadata": {}
    },
    {
      "cell_type": "code",
      "source": "DF_general = pd.read_csv ('world-happiness-report.csv')",
      "metadata": {
        "trusted": true
      },
      "execution_count": 62,
      "outputs": []
    },
    {
      "cell_type": "markdown",
      "source": "",
      "metadata": {}
    },
    {
      "cell_type": "markdown",
      "source": "Ahora mostramos el contenido (lo muestra resumido 5 primeras y 5 últimas líneas)",
      "metadata": {}
    },
    {
      "cell_type": "code",
      "source": "DF_general",
      "metadata": {
        "trusted": true
      },
      "execution_count": 63,
      "outputs": [
        {
          "execution_count": 63,
          "output_type": "execute_result",
          "data": {
            "text/plain": "     Country name  year  Life Ladder  Log GDP per capita  Social support  \\\n0     Afghanistan  2008        3.724               7.370           0.451   \n1     Afghanistan  2009        4.402               7.540           0.552   \n2     Afghanistan  2010        4.758               7.647           0.539   \n3     Afghanistan  2011        3.832               7.620           0.521   \n4     Afghanistan  2012        3.783               7.705           0.521   \n...           ...   ...          ...                 ...             ...   \n1944     Zimbabwe  2016        3.735               7.984           0.768   \n1945     Zimbabwe  2017        3.638               8.016           0.754   \n1946     Zimbabwe  2018        3.616               8.049           0.775   \n1947     Zimbabwe  2019        2.694               7.950           0.759   \n1948     Zimbabwe  2020        3.160               7.829           0.717   \n\n      Healthy life expectancy at birth  Freedom to make life choices  \\\n0                                50.80                         0.718   \n1                                51.20                         0.679   \n2                                51.60                         0.600   \n3                                51.92                         0.496   \n4                                52.24                         0.531   \n...                                ...                           ...   \n1944                             54.40                         0.733   \n1945                             55.00                         0.753   \n1946                             55.60                         0.763   \n1947                             56.20                         0.632   \n1948                             56.80                         0.643   \n\n      Generosity  Perceptions of corruption  Positive affect  Negative affect  \n0          0.168                      0.882            0.518            0.258  \n1          0.190                      0.850            0.584            0.237  \n2          0.121                      0.707            0.618            0.275  \n3          0.162                      0.731            0.611            0.267  \n4          0.236                      0.776            0.710            0.268  \n...          ...                        ...              ...              ...  \n1944      -0.095                      0.724            0.738            0.209  \n1945      -0.098                      0.751            0.806            0.224  \n1946      -0.068                      0.844            0.710            0.212  \n1947      -0.064                      0.831            0.716            0.235  \n1948      -0.009                      0.789            0.703            0.346  \n\n[1949 rows x 11 columns]",
            "text/html": "<div>\n<style scoped>\n    .dataframe tbody tr th:only-of-type {\n        vertical-align: middle;\n    }\n\n    .dataframe tbody tr th {\n        vertical-align: top;\n    }\n\n    .dataframe thead th {\n        text-align: right;\n    }\n</style>\n<table border=\"1\" class=\"dataframe\">\n  <thead>\n    <tr style=\"text-align: right;\">\n      <th></th>\n      <th>Country name</th>\n      <th>year</th>\n      <th>Life Ladder</th>\n      <th>Log GDP per capita</th>\n      <th>Social support</th>\n      <th>Healthy life expectancy at birth</th>\n      <th>Freedom to make life choices</th>\n      <th>Generosity</th>\n      <th>Perceptions of corruption</th>\n      <th>Positive affect</th>\n      <th>Negative affect</th>\n    </tr>\n  </thead>\n  <tbody>\n    <tr>\n      <th>0</th>\n      <td>Afghanistan</td>\n      <td>2008</td>\n      <td>3.724</td>\n      <td>7.370</td>\n      <td>0.451</td>\n      <td>50.80</td>\n      <td>0.718</td>\n      <td>0.168</td>\n      <td>0.882</td>\n      <td>0.518</td>\n      <td>0.258</td>\n    </tr>\n    <tr>\n      <th>1</th>\n      <td>Afghanistan</td>\n      <td>2009</td>\n      <td>4.402</td>\n      <td>7.540</td>\n      <td>0.552</td>\n      <td>51.20</td>\n      <td>0.679</td>\n      <td>0.190</td>\n      <td>0.850</td>\n      <td>0.584</td>\n      <td>0.237</td>\n    </tr>\n    <tr>\n      <th>2</th>\n      <td>Afghanistan</td>\n      <td>2010</td>\n      <td>4.758</td>\n      <td>7.647</td>\n      <td>0.539</td>\n      <td>51.60</td>\n      <td>0.600</td>\n      <td>0.121</td>\n      <td>0.707</td>\n      <td>0.618</td>\n      <td>0.275</td>\n    </tr>\n    <tr>\n      <th>3</th>\n      <td>Afghanistan</td>\n      <td>2011</td>\n      <td>3.832</td>\n      <td>7.620</td>\n      <td>0.521</td>\n      <td>51.92</td>\n      <td>0.496</td>\n      <td>0.162</td>\n      <td>0.731</td>\n      <td>0.611</td>\n      <td>0.267</td>\n    </tr>\n    <tr>\n      <th>4</th>\n      <td>Afghanistan</td>\n      <td>2012</td>\n      <td>3.783</td>\n      <td>7.705</td>\n      <td>0.521</td>\n      <td>52.24</td>\n      <td>0.531</td>\n      <td>0.236</td>\n      <td>0.776</td>\n      <td>0.710</td>\n      <td>0.268</td>\n    </tr>\n    <tr>\n      <th>...</th>\n      <td>...</td>\n      <td>...</td>\n      <td>...</td>\n      <td>...</td>\n      <td>...</td>\n      <td>...</td>\n      <td>...</td>\n      <td>...</td>\n      <td>...</td>\n      <td>...</td>\n      <td>...</td>\n    </tr>\n    <tr>\n      <th>1944</th>\n      <td>Zimbabwe</td>\n      <td>2016</td>\n      <td>3.735</td>\n      <td>7.984</td>\n      <td>0.768</td>\n      <td>54.40</td>\n      <td>0.733</td>\n      <td>-0.095</td>\n      <td>0.724</td>\n      <td>0.738</td>\n      <td>0.209</td>\n    </tr>\n    <tr>\n      <th>1945</th>\n      <td>Zimbabwe</td>\n      <td>2017</td>\n      <td>3.638</td>\n      <td>8.016</td>\n      <td>0.754</td>\n      <td>55.00</td>\n      <td>0.753</td>\n      <td>-0.098</td>\n      <td>0.751</td>\n      <td>0.806</td>\n      <td>0.224</td>\n    </tr>\n    <tr>\n      <th>1946</th>\n      <td>Zimbabwe</td>\n      <td>2018</td>\n      <td>3.616</td>\n      <td>8.049</td>\n      <td>0.775</td>\n      <td>55.60</td>\n      <td>0.763</td>\n      <td>-0.068</td>\n      <td>0.844</td>\n      <td>0.710</td>\n      <td>0.212</td>\n    </tr>\n    <tr>\n      <th>1947</th>\n      <td>Zimbabwe</td>\n      <td>2019</td>\n      <td>2.694</td>\n      <td>7.950</td>\n      <td>0.759</td>\n      <td>56.20</td>\n      <td>0.632</td>\n      <td>-0.064</td>\n      <td>0.831</td>\n      <td>0.716</td>\n      <td>0.235</td>\n    </tr>\n    <tr>\n      <th>1948</th>\n      <td>Zimbabwe</td>\n      <td>2020</td>\n      <td>3.160</td>\n      <td>7.829</td>\n      <td>0.717</td>\n      <td>56.80</td>\n      <td>0.643</td>\n      <td>-0.009</td>\n      <td>0.789</td>\n      <td>0.703</td>\n      <td>0.346</td>\n    </tr>\n  </tbody>\n</table>\n<p>1949 rows × 11 columns</p>\n</div>"
          },
          "metadata": {}
        }
      ]
    },
    {
      "cell_type": "markdown",
      "source": "",
      "metadata": {}
    },
    {
      "cell_type": "markdown",
      "source": "Vamos a hacer la misma operación con el fichero específico del 2021 (world-happiness-report-2021.csv)",
      "metadata": {}
    },
    {
      "cell_type": "code",
      "source": "DF_anio_2021 = pd.read_csv ('world-happiness-report-2021.csv')",
      "metadata": {
        "trusted": true
      },
      "execution_count": 64,
      "outputs": []
    },
    {
      "cell_type": "markdown",
      "source": "",
      "metadata": {}
    },
    {
      "cell_type": "markdown",
      "source": "Lo mismo que en el punto anterior, mostramos el contenido (lo muestra resumido 5 primeras y 5 últimas líneas)",
      "metadata": {}
    },
    {
      "cell_type": "code",
      "source": "DF_anio_2021",
      "metadata": {
        "trusted": true
      },
      "execution_count": 65,
      "outputs": [
        {
          "execution_count": 65,
          "output_type": "execute_result",
          "data": {
            "text/plain": "    Country name  Regional indicator  Ladder score  \\\n0        Finland      Western Europe         7.842   \n1        Denmark      Western Europe         7.620   \n2    Switzerland      Western Europe         7.571   \n3        Iceland      Western Europe         7.554   \n4    Netherlands      Western Europe         7.464   \n..           ...                 ...           ...   \n144      Lesotho  Sub-Saharan Africa         3.512   \n145     Botswana  Sub-Saharan Africa         3.467   \n146       Rwanda  Sub-Saharan Africa         3.415   \n147     Zimbabwe  Sub-Saharan Africa         3.145   \n148  Afghanistan          South Asia         2.523   \n\n     Standard error of ladder score  upperwhisker  lowerwhisker  \\\n0                             0.032         7.904         7.780   \n1                             0.035         7.687         7.552   \n2                             0.036         7.643         7.500   \n3                             0.059         7.670         7.438   \n4                             0.027         7.518         7.410   \n..                              ...           ...           ...   \n144                           0.120         3.748         3.276   \n145                           0.074         3.611         3.322   \n146                           0.068         3.548         3.282   \n147                           0.058         3.259         3.030   \n148                           0.038         2.596         2.449   \n\n     Logged GDP per capita  Social support  Healthy life expectancy  \\\n0                   10.775           0.954                   72.000   \n1                   10.933           0.954                   72.700   \n2                   11.117           0.942                   74.400   \n3                   10.878           0.983                   73.000   \n4                   10.932           0.942                   72.400   \n..                     ...             ...                      ...   \n144                  7.926           0.787                   48.700   \n145                  9.782           0.784                   59.269   \n146                  7.676           0.552                   61.400   \n147                  7.943           0.750                   56.201   \n148                  7.695           0.463                   52.493   \n\n     Freedom to make life choices  Generosity  Perceptions of corruption  \\\n0                           0.949      -0.098                      0.186   \n1                           0.946       0.030                      0.179   \n2                           0.919       0.025                      0.292   \n3                           0.955       0.160                      0.673   \n4                           0.913       0.175                      0.338   \n..                            ...         ...                        ...   \n144                         0.715      -0.131                      0.915   \n145                         0.824      -0.246                      0.801   \n146                         0.897       0.061                      0.167   \n147                         0.677      -0.047                      0.821   \n148                         0.382      -0.102                      0.924   \n\n     Ladder score in Dystopia  Explained by: Log GDP per capita  \\\n0                        2.43                             1.446   \n1                        2.43                             1.502   \n2                        2.43                             1.566   \n3                        2.43                             1.482   \n4                        2.43                             1.501   \n..                        ...                               ...   \n144                      2.43                             0.451   \n145                      2.43                             1.099   \n146                      2.43                             0.364   \n147                      2.43                             0.457   \n148                      2.43                             0.370   \n\n     Explained by: Social support  Explained by: Healthy life expectancy  \\\n0                           1.106                                  0.741   \n1                           1.108                                  0.763   \n2                           1.079                                  0.816   \n3                           1.172                                  0.772   \n4                           1.079                                  0.753   \n..                            ...                                    ...   \n144                         0.731                                  0.007   \n145                         0.724                                  0.340   \n146                         0.202                                  0.407   \n147                         0.649                                  0.243   \n148                         0.000                                  0.126   \n\n     Explained by: Freedom to make life choices  Explained by: Generosity  \\\n0                                         0.691                     0.124   \n1                                         0.686                     0.208   \n2                                         0.653                     0.204   \n3                                         0.698                     0.293   \n4                                         0.647                     0.302   \n..                                          ...                       ...   \n144                                       0.405                     0.103   \n145                                       0.539                     0.027   \n146                                       0.627                     0.227   \n147                                       0.359                     0.157   \n148                                       0.000                     0.122   \n\n     Explained by: Perceptions of corruption  Dystopia + residual  \n0                                      0.481                3.253  \n1                                      0.485                2.868  \n2                                      0.413                2.839  \n3                                      0.170                2.967  \n4                                      0.384                2.798  \n..                                       ...                  ...  \n144                                    0.015                1.800  \n145                                    0.088                0.648  \n146                                    0.493                1.095  \n147                                    0.075                1.205  \n148                                    0.010                1.895  \n\n[149 rows x 20 columns]",
            "text/html": "<div>\n<style scoped>\n    .dataframe tbody tr th:only-of-type {\n        vertical-align: middle;\n    }\n\n    .dataframe tbody tr th {\n        vertical-align: top;\n    }\n\n    .dataframe thead th {\n        text-align: right;\n    }\n</style>\n<table border=\"1\" class=\"dataframe\">\n  <thead>\n    <tr style=\"text-align: right;\">\n      <th></th>\n      <th>Country name</th>\n      <th>Regional indicator</th>\n      <th>Ladder score</th>\n      <th>Standard error of ladder score</th>\n      <th>upperwhisker</th>\n      <th>lowerwhisker</th>\n      <th>Logged GDP per capita</th>\n      <th>Social support</th>\n      <th>Healthy life expectancy</th>\n      <th>Freedom to make life choices</th>\n      <th>Generosity</th>\n      <th>Perceptions of corruption</th>\n      <th>Ladder score in Dystopia</th>\n      <th>Explained by: Log GDP per capita</th>\n      <th>Explained by: Social support</th>\n      <th>Explained by: Healthy life expectancy</th>\n      <th>Explained by: Freedom to make life choices</th>\n      <th>Explained by: Generosity</th>\n      <th>Explained by: Perceptions of corruption</th>\n      <th>Dystopia + residual</th>\n    </tr>\n  </thead>\n  <tbody>\n    <tr>\n      <th>0</th>\n      <td>Finland</td>\n      <td>Western Europe</td>\n      <td>7.842</td>\n      <td>0.032</td>\n      <td>7.904</td>\n      <td>7.780</td>\n      <td>10.775</td>\n      <td>0.954</td>\n      <td>72.000</td>\n      <td>0.949</td>\n      <td>-0.098</td>\n      <td>0.186</td>\n      <td>2.43</td>\n      <td>1.446</td>\n      <td>1.106</td>\n      <td>0.741</td>\n      <td>0.691</td>\n      <td>0.124</td>\n      <td>0.481</td>\n      <td>3.253</td>\n    </tr>\n    <tr>\n      <th>1</th>\n      <td>Denmark</td>\n      <td>Western Europe</td>\n      <td>7.620</td>\n      <td>0.035</td>\n      <td>7.687</td>\n      <td>7.552</td>\n      <td>10.933</td>\n      <td>0.954</td>\n      <td>72.700</td>\n      <td>0.946</td>\n      <td>0.030</td>\n      <td>0.179</td>\n      <td>2.43</td>\n      <td>1.502</td>\n      <td>1.108</td>\n      <td>0.763</td>\n      <td>0.686</td>\n      <td>0.208</td>\n      <td>0.485</td>\n      <td>2.868</td>\n    </tr>\n    <tr>\n      <th>2</th>\n      <td>Switzerland</td>\n      <td>Western Europe</td>\n      <td>7.571</td>\n      <td>0.036</td>\n      <td>7.643</td>\n      <td>7.500</td>\n      <td>11.117</td>\n      <td>0.942</td>\n      <td>74.400</td>\n      <td>0.919</td>\n      <td>0.025</td>\n      <td>0.292</td>\n      <td>2.43</td>\n      <td>1.566</td>\n      <td>1.079</td>\n      <td>0.816</td>\n      <td>0.653</td>\n      <td>0.204</td>\n      <td>0.413</td>\n      <td>2.839</td>\n    </tr>\n    <tr>\n      <th>3</th>\n      <td>Iceland</td>\n      <td>Western Europe</td>\n      <td>7.554</td>\n      <td>0.059</td>\n      <td>7.670</td>\n      <td>7.438</td>\n      <td>10.878</td>\n      <td>0.983</td>\n      <td>73.000</td>\n      <td>0.955</td>\n      <td>0.160</td>\n      <td>0.673</td>\n      <td>2.43</td>\n      <td>1.482</td>\n      <td>1.172</td>\n      <td>0.772</td>\n      <td>0.698</td>\n      <td>0.293</td>\n      <td>0.170</td>\n      <td>2.967</td>\n    </tr>\n    <tr>\n      <th>4</th>\n      <td>Netherlands</td>\n      <td>Western Europe</td>\n      <td>7.464</td>\n      <td>0.027</td>\n      <td>7.518</td>\n      <td>7.410</td>\n      <td>10.932</td>\n      <td>0.942</td>\n      <td>72.400</td>\n      <td>0.913</td>\n      <td>0.175</td>\n      <td>0.338</td>\n      <td>2.43</td>\n      <td>1.501</td>\n      <td>1.079</td>\n      <td>0.753</td>\n      <td>0.647</td>\n      <td>0.302</td>\n      <td>0.384</td>\n      <td>2.798</td>\n    </tr>\n    <tr>\n      <th>...</th>\n      <td>...</td>\n      <td>...</td>\n      <td>...</td>\n      <td>...</td>\n      <td>...</td>\n      <td>...</td>\n      <td>...</td>\n      <td>...</td>\n      <td>...</td>\n      <td>...</td>\n      <td>...</td>\n      <td>...</td>\n      <td>...</td>\n      <td>...</td>\n      <td>...</td>\n      <td>...</td>\n      <td>...</td>\n      <td>...</td>\n      <td>...</td>\n      <td>...</td>\n    </tr>\n    <tr>\n      <th>144</th>\n      <td>Lesotho</td>\n      <td>Sub-Saharan Africa</td>\n      <td>3.512</td>\n      <td>0.120</td>\n      <td>3.748</td>\n      <td>3.276</td>\n      <td>7.926</td>\n      <td>0.787</td>\n      <td>48.700</td>\n      <td>0.715</td>\n      <td>-0.131</td>\n      <td>0.915</td>\n      <td>2.43</td>\n      <td>0.451</td>\n      <td>0.731</td>\n      <td>0.007</td>\n      <td>0.405</td>\n      <td>0.103</td>\n      <td>0.015</td>\n      <td>1.800</td>\n    </tr>\n    <tr>\n      <th>145</th>\n      <td>Botswana</td>\n      <td>Sub-Saharan Africa</td>\n      <td>3.467</td>\n      <td>0.074</td>\n      <td>3.611</td>\n      <td>3.322</td>\n      <td>9.782</td>\n      <td>0.784</td>\n      <td>59.269</td>\n      <td>0.824</td>\n      <td>-0.246</td>\n      <td>0.801</td>\n      <td>2.43</td>\n      <td>1.099</td>\n      <td>0.724</td>\n      <td>0.340</td>\n      <td>0.539</td>\n      <td>0.027</td>\n      <td>0.088</td>\n      <td>0.648</td>\n    </tr>\n    <tr>\n      <th>146</th>\n      <td>Rwanda</td>\n      <td>Sub-Saharan Africa</td>\n      <td>3.415</td>\n      <td>0.068</td>\n      <td>3.548</td>\n      <td>3.282</td>\n      <td>7.676</td>\n      <td>0.552</td>\n      <td>61.400</td>\n      <td>0.897</td>\n      <td>0.061</td>\n      <td>0.167</td>\n      <td>2.43</td>\n      <td>0.364</td>\n      <td>0.202</td>\n      <td>0.407</td>\n      <td>0.627</td>\n      <td>0.227</td>\n      <td>0.493</td>\n      <td>1.095</td>\n    </tr>\n    <tr>\n      <th>147</th>\n      <td>Zimbabwe</td>\n      <td>Sub-Saharan Africa</td>\n      <td>3.145</td>\n      <td>0.058</td>\n      <td>3.259</td>\n      <td>3.030</td>\n      <td>7.943</td>\n      <td>0.750</td>\n      <td>56.201</td>\n      <td>0.677</td>\n      <td>-0.047</td>\n      <td>0.821</td>\n      <td>2.43</td>\n      <td>0.457</td>\n      <td>0.649</td>\n      <td>0.243</td>\n      <td>0.359</td>\n      <td>0.157</td>\n      <td>0.075</td>\n      <td>1.205</td>\n    </tr>\n    <tr>\n      <th>148</th>\n      <td>Afghanistan</td>\n      <td>South Asia</td>\n      <td>2.523</td>\n      <td>0.038</td>\n      <td>2.596</td>\n      <td>2.449</td>\n      <td>7.695</td>\n      <td>0.463</td>\n      <td>52.493</td>\n      <td>0.382</td>\n      <td>-0.102</td>\n      <td>0.924</td>\n      <td>2.43</td>\n      <td>0.370</td>\n      <td>0.000</td>\n      <td>0.126</td>\n      <td>0.000</td>\n      <td>0.122</td>\n      <td>0.010</td>\n      <td>1.895</td>\n    </tr>\n  </tbody>\n</table>\n<p>149 rows × 20 columns</p>\n</div>"
          },
          "metadata": {}
        }
      ]
    },
    {
      "cell_type": "markdown",
      "source": "",
      "metadata": {}
    },
    {
      "cell_type": "markdown",
      "source": "Como se puede observar los data frames son parecidos, pero no tienen las mismas columnas, y en algunas columnas no tienen el mismo nombre.\nPor lo que antes de unirlas, los voy a poner el mismo nombre de columna (cuando se correspondan), y además quitaré algunas columnas que no voy a utilizar \ny me van a entorpecer la lectura humana del ejecicio\nMe voy a basar en los 6 factores para medir la felicidad:\nPIB, apoyo social, esperanza de vida sana, libertad, generosidad y ausencia de corrupción",
      "metadata": {}
    },
    {
      "cell_type": "code",
      "source": "DF_general_f = DF_general.drop(columns=['Positive affect', 'Negative affect'])",
      "metadata": {
        "trusted": true
      },
      "execution_count": 66,
      "outputs": []
    },
    {
      "cell_type": "markdown",
      "source": "",
      "metadata": {}
    },
    {
      "cell_type": "markdown",
      "source": "También con el paso del ejercicio veo que tengo que renombrar las columnas para que se equiparen y poder juntarlas después, para ello utilizaré el método rename()",
      "metadata": {}
    },
    {
      "cell_type": "code",
      "source": "DF_general_f = DF_general_f.rename(columns= {'Country name':'Pais', 'year':'Anio','Life Ladder':'Ladder','Log GDP per capita':'PIB','Social support':'Ayudas sociales','Healthy life expectancy at birth':'Esperanza de vida','Freedom to make life choices':'Libertad','Generosity':'Generosidad','Perceptions of corruption':'Percepcion de la Corrupcion'})",
      "metadata": {
        "trusted": true
      },
      "execution_count": 67,
      "outputs": []
    },
    {
      "cell_type": "code",
      "source": "DF_general_f",
      "metadata": {
        "trusted": true
      },
      "execution_count": 68,
      "outputs": [
        {
          "execution_count": 68,
          "output_type": "execute_result",
          "data": {
            "text/plain": "             Pais  Anio  Ladder    PIB  Ayudas sociales  Esperanza de vida  \\\n0     Afghanistan  2008   3.724  7.370            0.451              50.80   \n1     Afghanistan  2009   4.402  7.540            0.552              51.20   \n2     Afghanistan  2010   4.758  7.647            0.539              51.60   \n3     Afghanistan  2011   3.832  7.620            0.521              51.92   \n4     Afghanistan  2012   3.783  7.705            0.521              52.24   \n...           ...   ...     ...    ...              ...                ...   \n1944     Zimbabwe  2016   3.735  7.984            0.768              54.40   \n1945     Zimbabwe  2017   3.638  8.016            0.754              55.00   \n1946     Zimbabwe  2018   3.616  8.049            0.775              55.60   \n1947     Zimbabwe  2019   2.694  7.950            0.759              56.20   \n1948     Zimbabwe  2020   3.160  7.829            0.717              56.80   \n\n      Libertad  Generosidad  Percepcion de la Corrupcion  \n0        0.718        0.168                        0.882  \n1        0.679        0.190                        0.850  \n2        0.600        0.121                        0.707  \n3        0.496        0.162                        0.731  \n4        0.531        0.236                        0.776  \n...        ...          ...                          ...  \n1944     0.733       -0.095                        0.724  \n1945     0.753       -0.098                        0.751  \n1946     0.763       -0.068                        0.844  \n1947     0.632       -0.064                        0.831  \n1948     0.643       -0.009                        0.789  \n\n[1949 rows x 9 columns]",
            "text/html": "<div>\n<style scoped>\n    .dataframe tbody tr th:only-of-type {\n        vertical-align: middle;\n    }\n\n    .dataframe tbody tr th {\n        vertical-align: top;\n    }\n\n    .dataframe thead th {\n        text-align: right;\n    }\n</style>\n<table border=\"1\" class=\"dataframe\">\n  <thead>\n    <tr style=\"text-align: right;\">\n      <th></th>\n      <th>Pais</th>\n      <th>Anio</th>\n      <th>Ladder</th>\n      <th>PIB</th>\n      <th>Ayudas sociales</th>\n      <th>Esperanza de vida</th>\n      <th>Libertad</th>\n      <th>Generosidad</th>\n      <th>Percepcion de la Corrupcion</th>\n    </tr>\n  </thead>\n  <tbody>\n    <tr>\n      <th>0</th>\n      <td>Afghanistan</td>\n      <td>2008</td>\n      <td>3.724</td>\n      <td>7.370</td>\n      <td>0.451</td>\n      <td>50.80</td>\n      <td>0.718</td>\n      <td>0.168</td>\n      <td>0.882</td>\n    </tr>\n    <tr>\n      <th>1</th>\n      <td>Afghanistan</td>\n      <td>2009</td>\n      <td>4.402</td>\n      <td>7.540</td>\n      <td>0.552</td>\n      <td>51.20</td>\n      <td>0.679</td>\n      <td>0.190</td>\n      <td>0.850</td>\n    </tr>\n    <tr>\n      <th>2</th>\n      <td>Afghanistan</td>\n      <td>2010</td>\n      <td>4.758</td>\n      <td>7.647</td>\n      <td>0.539</td>\n      <td>51.60</td>\n      <td>0.600</td>\n      <td>0.121</td>\n      <td>0.707</td>\n    </tr>\n    <tr>\n      <th>3</th>\n      <td>Afghanistan</td>\n      <td>2011</td>\n      <td>3.832</td>\n      <td>7.620</td>\n      <td>0.521</td>\n      <td>51.92</td>\n      <td>0.496</td>\n      <td>0.162</td>\n      <td>0.731</td>\n    </tr>\n    <tr>\n      <th>4</th>\n      <td>Afghanistan</td>\n      <td>2012</td>\n      <td>3.783</td>\n      <td>7.705</td>\n      <td>0.521</td>\n      <td>52.24</td>\n      <td>0.531</td>\n      <td>0.236</td>\n      <td>0.776</td>\n    </tr>\n    <tr>\n      <th>...</th>\n      <td>...</td>\n      <td>...</td>\n      <td>...</td>\n      <td>...</td>\n      <td>...</td>\n      <td>...</td>\n      <td>...</td>\n      <td>...</td>\n      <td>...</td>\n    </tr>\n    <tr>\n      <th>1944</th>\n      <td>Zimbabwe</td>\n      <td>2016</td>\n      <td>3.735</td>\n      <td>7.984</td>\n      <td>0.768</td>\n      <td>54.40</td>\n      <td>0.733</td>\n      <td>-0.095</td>\n      <td>0.724</td>\n    </tr>\n    <tr>\n      <th>1945</th>\n      <td>Zimbabwe</td>\n      <td>2017</td>\n      <td>3.638</td>\n      <td>8.016</td>\n      <td>0.754</td>\n      <td>55.00</td>\n      <td>0.753</td>\n      <td>-0.098</td>\n      <td>0.751</td>\n    </tr>\n    <tr>\n      <th>1946</th>\n      <td>Zimbabwe</td>\n      <td>2018</td>\n      <td>3.616</td>\n      <td>8.049</td>\n      <td>0.775</td>\n      <td>55.60</td>\n      <td>0.763</td>\n      <td>-0.068</td>\n      <td>0.844</td>\n    </tr>\n    <tr>\n      <th>1947</th>\n      <td>Zimbabwe</td>\n      <td>2019</td>\n      <td>2.694</td>\n      <td>7.950</td>\n      <td>0.759</td>\n      <td>56.20</td>\n      <td>0.632</td>\n      <td>-0.064</td>\n      <td>0.831</td>\n    </tr>\n    <tr>\n      <th>1948</th>\n      <td>Zimbabwe</td>\n      <td>2020</td>\n      <td>3.160</td>\n      <td>7.829</td>\n      <td>0.717</td>\n      <td>56.80</td>\n      <td>0.643</td>\n      <td>-0.009</td>\n      <td>0.789</td>\n    </tr>\n  </tbody>\n</table>\n<p>1949 rows × 9 columns</p>\n</div>"
          },
          "metadata": {}
        }
      ]
    },
    {
      "cell_type": "markdown",
      "source": "",
      "metadata": {}
    },
    {
      "cell_type": "markdown",
      "source": "Ahora misma tarea para el dataframe del año 2021",
      "metadata": {}
    },
    {
      "cell_type": "code",
      "source": "DF_anio_2021_f = DF_anio_2021.drop(columns=['Standard error of ladder score','upperwhisker','lowerwhisker','Ladder score in Dystopia','Explained by: Log GDP per capita','Explained by: Social support','Explained by: Healthy life expectancy','Explained by: Freedom to make life choices','Explained by: Generosity','Explained by: Perceptions of corruption','Dystopia + residual'])",
      "metadata": {
        "trusted": true
      },
      "execution_count": 69,
      "outputs": []
    },
    {
      "cell_type": "markdown",
      "source": "",
      "metadata": {}
    },
    {
      "cell_type": "markdown",
      "source": "Renombramos en este dataframe también",
      "metadata": {}
    },
    {
      "cell_type": "code",
      "source": "DF_anio_2021_f = DF_anio_2021_f.rename(columns= {'Country name':'Pais', 'Regional indicator':'Region','Ladder score':'Ladder','Logged GDP per capita':'PIB','Social support':'Ayudas sociales','Healthy life expectancy':'Esperanza de vida','Freedom to make life choices':'Libertad','Generosity':'Generosidad','Perceptions of corruption':'Percepcion de la Corrupcion'})",
      "metadata": {
        "trusted": true
      },
      "execution_count": 70,
      "outputs": []
    },
    {
      "cell_type": "code",
      "source": "DF_anio_2021_f",
      "metadata": {
        "trusted": true
      },
      "execution_count": 71,
      "outputs": [
        {
          "execution_count": 71,
          "output_type": "execute_result",
          "data": {
            "text/plain": "            Pais              Region  Ladder     PIB  Ayudas sociales  \\\n0        Finland      Western Europe   7.842  10.775            0.954   \n1        Denmark      Western Europe   7.620  10.933            0.954   \n2    Switzerland      Western Europe   7.571  11.117            0.942   \n3        Iceland      Western Europe   7.554  10.878            0.983   \n4    Netherlands      Western Europe   7.464  10.932            0.942   \n..           ...                 ...     ...     ...              ...   \n144      Lesotho  Sub-Saharan Africa   3.512   7.926            0.787   \n145     Botswana  Sub-Saharan Africa   3.467   9.782            0.784   \n146       Rwanda  Sub-Saharan Africa   3.415   7.676            0.552   \n147     Zimbabwe  Sub-Saharan Africa   3.145   7.943            0.750   \n148  Afghanistan          South Asia   2.523   7.695            0.463   \n\n     Esperanza de vida  Libertad  Generosidad  Percepcion de la Corrupcion  \n0               72.000     0.949       -0.098                        0.186  \n1               72.700     0.946        0.030                        0.179  \n2               74.400     0.919        0.025                        0.292  \n3               73.000     0.955        0.160                        0.673  \n4               72.400     0.913        0.175                        0.338  \n..                 ...       ...          ...                          ...  \n144             48.700     0.715       -0.131                        0.915  \n145             59.269     0.824       -0.246                        0.801  \n146             61.400     0.897        0.061                        0.167  \n147             56.201     0.677       -0.047                        0.821  \n148             52.493     0.382       -0.102                        0.924  \n\n[149 rows x 9 columns]",
            "text/html": "<div>\n<style scoped>\n    .dataframe tbody tr th:only-of-type {\n        vertical-align: middle;\n    }\n\n    .dataframe tbody tr th {\n        vertical-align: top;\n    }\n\n    .dataframe thead th {\n        text-align: right;\n    }\n</style>\n<table border=\"1\" class=\"dataframe\">\n  <thead>\n    <tr style=\"text-align: right;\">\n      <th></th>\n      <th>Pais</th>\n      <th>Region</th>\n      <th>Ladder</th>\n      <th>PIB</th>\n      <th>Ayudas sociales</th>\n      <th>Esperanza de vida</th>\n      <th>Libertad</th>\n      <th>Generosidad</th>\n      <th>Percepcion de la Corrupcion</th>\n    </tr>\n  </thead>\n  <tbody>\n    <tr>\n      <th>0</th>\n      <td>Finland</td>\n      <td>Western Europe</td>\n      <td>7.842</td>\n      <td>10.775</td>\n      <td>0.954</td>\n      <td>72.000</td>\n      <td>0.949</td>\n      <td>-0.098</td>\n      <td>0.186</td>\n    </tr>\n    <tr>\n      <th>1</th>\n      <td>Denmark</td>\n      <td>Western Europe</td>\n      <td>7.620</td>\n      <td>10.933</td>\n      <td>0.954</td>\n      <td>72.700</td>\n      <td>0.946</td>\n      <td>0.030</td>\n      <td>0.179</td>\n    </tr>\n    <tr>\n      <th>2</th>\n      <td>Switzerland</td>\n      <td>Western Europe</td>\n      <td>7.571</td>\n      <td>11.117</td>\n      <td>0.942</td>\n      <td>74.400</td>\n      <td>0.919</td>\n      <td>0.025</td>\n      <td>0.292</td>\n    </tr>\n    <tr>\n      <th>3</th>\n      <td>Iceland</td>\n      <td>Western Europe</td>\n      <td>7.554</td>\n      <td>10.878</td>\n      <td>0.983</td>\n      <td>73.000</td>\n      <td>0.955</td>\n      <td>0.160</td>\n      <td>0.673</td>\n    </tr>\n    <tr>\n      <th>4</th>\n      <td>Netherlands</td>\n      <td>Western Europe</td>\n      <td>7.464</td>\n      <td>10.932</td>\n      <td>0.942</td>\n      <td>72.400</td>\n      <td>0.913</td>\n      <td>0.175</td>\n      <td>0.338</td>\n    </tr>\n    <tr>\n      <th>...</th>\n      <td>...</td>\n      <td>...</td>\n      <td>...</td>\n      <td>...</td>\n      <td>...</td>\n      <td>...</td>\n      <td>...</td>\n      <td>...</td>\n      <td>...</td>\n    </tr>\n    <tr>\n      <th>144</th>\n      <td>Lesotho</td>\n      <td>Sub-Saharan Africa</td>\n      <td>3.512</td>\n      <td>7.926</td>\n      <td>0.787</td>\n      <td>48.700</td>\n      <td>0.715</td>\n      <td>-0.131</td>\n      <td>0.915</td>\n    </tr>\n    <tr>\n      <th>145</th>\n      <td>Botswana</td>\n      <td>Sub-Saharan Africa</td>\n      <td>3.467</td>\n      <td>9.782</td>\n      <td>0.784</td>\n      <td>59.269</td>\n      <td>0.824</td>\n      <td>-0.246</td>\n      <td>0.801</td>\n    </tr>\n    <tr>\n      <th>146</th>\n      <td>Rwanda</td>\n      <td>Sub-Saharan Africa</td>\n      <td>3.415</td>\n      <td>7.676</td>\n      <td>0.552</td>\n      <td>61.400</td>\n      <td>0.897</td>\n      <td>0.061</td>\n      <td>0.167</td>\n    </tr>\n    <tr>\n      <th>147</th>\n      <td>Zimbabwe</td>\n      <td>Sub-Saharan Africa</td>\n      <td>3.145</td>\n      <td>7.943</td>\n      <td>0.750</td>\n      <td>56.201</td>\n      <td>0.677</td>\n      <td>-0.047</td>\n      <td>0.821</td>\n    </tr>\n    <tr>\n      <th>148</th>\n      <td>Afghanistan</td>\n      <td>South Asia</td>\n      <td>2.523</td>\n      <td>7.695</td>\n      <td>0.463</td>\n      <td>52.493</td>\n      <td>0.382</td>\n      <td>-0.102</td>\n      <td>0.924</td>\n    </tr>\n  </tbody>\n</table>\n<p>149 rows × 9 columns</p>\n</div>"
          },
          "metadata": {}
        }
      ]
    },
    {
      "cell_type": "markdown",
      "source": "",
      "metadata": {}
    },
    {
      "cell_type": "markdown",
      "source": "Igualmente para poder unir ambos ficheros de forma casi 100% uniforme, con el método insert(), añadiré la columna año con el año 2021 al fichero world-happiness-report-2021.csv, que no lo trae",
      "metadata": {}
    },
    {
      "cell_type": "code",
      "source": "DF_anio_2021_f.insert(0,'Anio', 2021)",
      "metadata": {
        "trusted": true
      },
      "execution_count": 72,
      "outputs": []
    },
    {
      "cell_type": "code",
      "source": "DF_anio_2021_f",
      "metadata": {
        "trusted": true
      },
      "execution_count": 73,
      "outputs": [
        {
          "execution_count": 73,
          "output_type": "execute_result",
          "data": {
            "text/plain": "     Anio         Pais              Region  Ladder     PIB  Ayudas sociales  \\\n0    2021      Finland      Western Europe   7.842  10.775            0.954   \n1    2021      Denmark      Western Europe   7.620  10.933            0.954   \n2    2021  Switzerland      Western Europe   7.571  11.117            0.942   \n3    2021      Iceland      Western Europe   7.554  10.878            0.983   \n4    2021  Netherlands      Western Europe   7.464  10.932            0.942   \n..    ...          ...                 ...     ...     ...              ...   \n144  2021      Lesotho  Sub-Saharan Africa   3.512   7.926            0.787   \n145  2021     Botswana  Sub-Saharan Africa   3.467   9.782            0.784   \n146  2021       Rwanda  Sub-Saharan Africa   3.415   7.676            0.552   \n147  2021     Zimbabwe  Sub-Saharan Africa   3.145   7.943            0.750   \n148  2021  Afghanistan          South Asia   2.523   7.695            0.463   \n\n     Esperanza de vida  Libertad  Generosidad  Percepcion de la Corrupcion  \n0               72.000     0.949       -0.098                        0.186  \n1               72.700     0.946        0.030                        0.179  \n2               74.400     0.919        0.025                        0.292  \n3               73.000     0.955        0.160                        0.673  \n4               72.400     0.913        0.175                        0.338  \n..                 ...       ...          ...                          ...  \n144             48.700     0.715       -0.131                        0.915  \n145             59.269     0.824       -0.246                        0.801  \n146             61.400     0.897        0.061                        0.167  \n147             56.201     0.677       -0.047                        0.821  \n148             52.493     0.382       -0.102                        0.924  \n\n[149 rows x 10 columns]",
            "text/html": "<div>\n<style scoped>\n    .dataframe tbody tr th:only-of-type {\n        vertical-align: middle;\n    }\n\n    .dataframe tbody tr th {\n        vertical-align: top;\n    }\n\n    .dataframe thead th {\n        text-align: right;\n    }\n</style>\n<table border=\"1\" class=\"dataframe\">\n  <thead>\n    <tr style=\"text-align: right;\">\n      <th></th>\n      <th>Anio</th>\n      <th>Pais</th>\n      <th>Region</th>\n      <th>Ladder</th>\n      <th>PIB</th>\n      <th>Ayudas sociales</th>\n      <th>Esperanza de vida</th>\n      <th>Libertad</th>\n      <th>Generosidad</th>\n      <th>Percepcion de la Corrupcion</th>\n    </tr>\n  </thead>\n  <tbody>\n    <tr>\n      <th>0</th>\n      <td>2021</td>\n      <td>Finland</td>\n      <td>Western Europe</td>\n      <td>7.842</td>\n      <td>10.775</td>\n      <td>0.954</td>\n      <td>72.000</td>\n      <td>0.949</td>\n      <td>-0.098</td>\n      <td>0.186</td>\n    </tr>\n    <tr>\n      <th>1</th>\n      <td>2021</td>\n      <td>Denmark</td>\n      <td>Western Europe</td>\n      <td>7.620</td>\n      <td>10.933</td>\n      <td>0.954</td>\n      <td>72.700</td>\n      <td>0.946</td>\n      <td>0.030</td>\n      <td>0.179</td>\n    </tr>\n    <tr>\n      <th>2</th>\n      <td>2021</td>\n      <td>Switzerland</td>\n      <td>Western Europe</td>\n      <td>7.571</td>\n      <td>11.117</td>\n      <td>0.942</td>\n      <td>74.400</td>\n      <td>0.919</td>\n      <td>0.025</td>\n      <td>0.292</td>\n    </tr>\n    <tr>\n      <th>3</th>\n      <td>2021</td>\n      <td>Iceland</td>\n      <td>Western Europe</td>\n      <td>7.554</td>\n      <td>10.878</td>\n      <td>0.983</td>\n      <td>73.000</td>\n      <td>0.955</td>\n      <td>0.160</td>\n      <td>0.673</td>\n    </tr>\n    <tr>\n      <th>4</th>\n      <td>2021</td>\n      <td>Netherlands</td>\n      <td>Western Europe</td>\n      <td>7.464</td>\n      <td>10.932</td>\n      <td>0.942</td>\n      <td>72.400</td>\n      <td>0.913</td>\n      <td>0.175</td>\n      <td>0.338</td>\n    </tr>\n    <tr>\n      <th>...</th>\n      <td>...</td>\n      <td>...</td>\n      <td>...</td>\n      <td>...</td>\n      <td>...</td>\n      <td>...</td>\n      <td>...</td>\n      <td>...</td>\n      <td>...</td>\n      <td>...</td>\n    </tr>\n    <tr>\n      <th>144</th>\n      <td>2021</td>\n      <td>Lesotho</td>\n      <td>Sub-Saharan Africa</td>\n      <td>3.512</td>\n      <td>7.926</td>\n      <td>0.787</td>\n      <td>48.700</td>\n      <td>0.715</td>\n      <td>-0.131</td>\n      <td>0.915</td>\n    </tr>\n    <tr>\n      <th>145</th>\n      <td>2021</td>\n      <td>Botswana</td>\n      <td>Sub-Saharan Africa</td>\n      <td>3.467</td>\n      <td>9.782</td>\n      <td>0.784</td>\n      <td>59.269</td>\n      <td>0.824</td>\n      <td>-0.246</td>\n      <td>0.801</td>\n    </tr>\n    <tr>\n      <th>146</th>\n      <td>2021</td>\n      <td>Rwanda</td>\n      <td>Sub-Saharan Africa</td>\n      <td>3.415</td>\n      <td>7.676</td>\n      <td>0.552</td>\n      <td>61.400</td>\n      <td>0.897</td>\n      <td>0.061</td>\n      <td>0.167</td>\n    </tr>\n    <tr>\n      <th>147</th>\n      <td>2021</td>\n      <td>Zimbabwe</td>\n      <td>Sub-Saharan Africa</td>\n      <td>3.145</td>\n      <td>7.943</td>\n      <td>0.750</td>\n      <td>56.201</td>\n      <td>0.677</td>\n      <td>-0.047</td>\n      <td>0.821</td>\n    </tr>\n    <tr>\n      <th>148</th>\n      <td>2021</td>\n      <td>Afghanistan</td>\n      <td>South Asia</td>\n      <td>2.523</td>\n      <td>7.695</td>\n      <td>0.463</td>\n      <td>52.493</td>\n      <td>0.382</td>\n      <td>-0.102</td>\n      <td>0.924</td>\n    </tr>\n  </tbody>\n</table>\n<p>149 rows × 10 columns</p>\n</div>"
          },
          "metadata": {}
        }
      ]
    },
    {
      "cell_type": "markdown",
      "source": "",
      "metadata": {}
    },
    {
      "cell_type": "markdown",
      "source": "Una vez que tenemos cargados ambos ficheros de data y filtrados para poder tener un data legible y limpio, tenemos que unirlos, en este caso, utilizaremos el metodo concat de la librería pandas de python, para unir data frames",
      "metadata": {}
    },
    {
      "cell_type": "code",
      "source": "DF_Final = pd.concat ([DF_general_f,DF_anio_2021_f])",
      "metadata": {
        "trusted": true
      },
      "execution_count": 74,
      "outputs": []
    },
    {
      "cell_type": "code",
      "source": "DF_Final",
      "metadata": {
        "trusted": true
      },
      "execution_count": 75,
      "outputs": [
        {
          "execution_count": 75,
          "output_type": "execute_result",
          "data": {
            "text/plain": "            Pais  Anio  Ladder    PIB  Ayudas sociales  Esperanza de vida  \\\n0    Afghanistan  2008   3.724  7.370            0.451             50.800   \n1    Afghanistan  2009   4.402  7.540            0.552             51.200   \n2    Afghanistan  2010   4.758  7.647            0.539             51.600   \n3    Afghanistan  2011   3.832  7.620            0.521             51.920   \n4    Afghanistan  2012   3.783  7.705            0.521             52.240   \n..           ...   ...     ...    ...              ...                ...   \n144      Lesotho  2021   3.512  7.926            0.787             48.700   \n145     Botswana  2021   3.467  9.782            0.784             59.269   \n146       Rwanda  2021   3.415  7.676            0.552             61.400   \n147     Zimbabwe  2021   3.145  7.943            0.750             56.201   \n148  Afghanistan  2021   2.523  7.695            0.463             52.493   \n\n     Libertad  Generosidad  Percepcion de la Corrupcion              Region  \n0       0.718        0.168                        0.882                 NaN  \n1       0.679        0.190                        0.850                 NaN  \n2       0.600        0.121                        0.707                 NaN  \n3       0.496        0.162                        0.731                 NaN  \n4       0.531        0.236                        0.776                 NaN  \n..        ...          ...                          ...                 ...  \n144     0.715       -0.131                        0.915  Sub-Saharan Africa  \n145     0.824       -0.246                        0.801  Sub-Saharan Africa  \n146     0.897        0.061                        0.167  Sub-Saharan Africa  \n147     0.677       -0.047                        0.821  Sub-Saharan Africa  \n148     0.382       -0.102                        0.924          South Asia  \n\n[2098 rows x 10 columns]",
            "text/html": "<div>\n<style scoped>\n    .dataframe tbody tr th:only-of-type {\n        vertical-align: middle;\n    }\n\n    .dataframe tbody tr th {\n        vertical-align: top;\n    }\n\n    .dataframe thead th {\n        text-align: right;\n    }\n</style>\n<table border=\"1\" class=\"dataframe\">\n  <thead>\n    <tr style=\"text-align: right;\">\n      <th></th>\n      <th>Pais</th>\n      <th>Anio</th>\n      <th>Ladder</th>\n      <th>PIB</th>\n      <th>Ayudas sociales</th>\n      <th>Esperanza de vida</th>\n      <th>Libertad</th>\n      <th>Generosidad</th>\n      <th>Percepcion de la Corrupcion</th>\n      <th>Region</th>\n    </tr>\n  </thead>\n  <tbody>\n    <tr>\n      <th>0</th>\n      <td>Afghanistan</td>\n      <td>2008</td>\n      <td>3.724</td>\n      <td>7.370</td>\n      <td>0.451</td>\n      <td>50.800</td>\n      <td>0.718</td>\n      <td>0.168</td>\n      <td>0.882</td>\n      <td>NaN</td>\n    </tr>\n    <tr>\n      <th>1</th>\n      <td>Afghanistan</td>\n      <td>2009</td>\n      <td>4.402</td>\n      <td>7.540</td>\n      <td>0.552</td>\n      <td>51.200</td>\n      <td>0.679</td>\n      <td>0.190</td>\n      <td>0.850</td>\n      <td>NaN</td>\n    </tr>\n    <tr>\n      <th>2</th>\n      <td>Afghanistan</td>\n      <td>2010</td>\n      <td>4.758</td>\n      <td>7.647</td>\n      <td>0.539</td>\n      <td>51.600</td>\n      <td>0.600</td>\n      <td>0.121</td>\n      <td>0.707</td>\n      <td>NaN</td>\n    </tr>\n    <tr>\n      <th>3</th>\n      <td>Afghanistan</td>\n      <td>2011</td>\n      <td>3.832</td>\n      <td>7.620</td>\n      <td>0.521</td>\n      <td>51.920</td>\n      <td>0.496</td>\n      <td>0.162</td>\n      <td>0.731</td>\n      <td>NaN</td>\n    </tr>\n    <tr>\n      <th>4</th>\n      <td>Afghanistan</td>\n      <td>2012</td>\n      <td>3.783</td>\n      <td>7.705</td>\n      <td>0.521</td>\n      <td>52.240</td>\n      <td>0.531</td>\n      <td>0.236</td>\n      <td>0.776</td>\n      <td>NaN</td>\n    </tr>\n    <tr>\n      <th>...</th>\n      <td>...</td>\n      <td>...</td>\n      <td>...</td>\n      <td>...</td>\n      <td>...</td>\n      <td>...</td>\n      <td>...</td>\n      <td>...</td>\n      <td>...</td>\n      <td>...</td>\n    </tr>\n    <tr>\n      <th>144</th>\n      <td>Lesotho</td>\n      <td>2021</td>\n      <td>3.512</td>\n      <td>7.926</td>\n      <td>0.787</td>\n      <td>48.700</td>\n      <td>0.715</td>\n      <td>-0.131</td>\n      <td>0.915</td>\n      <td>Sub-Saharan Africa</td>\n    </tr>\n    <tr>\n      <th>145</th>\n      <td>Botswana</td>\n      <td>2021</td>\n      <td>3.467</td>\n      <td>9.782</td>\n      <td>0.784</td>\n      <td>59.269</td>\n      <td>0.824</td>\n      <td>-0.246</td>\n      <td>0.801</td>\n      <td>Sub-Saharan Africa</td>\n    </tr>\n    <tr>\n      <th>146</th>\n      <td>Rwanda</td>\n      <td>2021</td>\n      <td>3.415</td>\n      <td>7.676</td>\n      <td>0.552</td>\n      <td>61.400</td>\n      <td>0.897</td>\n      <td>0.061</td>\n      <td>0.167</td>\n      <td>Sub-Saharan Africa</td>\n    </tr>\n    <tr>\n      <th>147</th>\n      <td>Zimbabwe</td>\n      <td>2021</td>\n      <td>3.145</td>\n      <td>7.943</td>\n      <td>0.750</td>\n      <td>56.201</td>\n      <td>0.677</td>\n      <td>-0.047</td>\n      <td>0.821</td>\n      <td>Sub-Saharan Africa</td>\n    </tr>\n    <tr>\n      <th>148</th>\n      <td>Afghanistan</td>\n      <td>2021</td>\n      <td>2.523</td>\n      <td>7.695</td>\n      <td>0.463</td>\n      <td>52.493</td>\n      <td>0.382</td>\n      <td>-0.102</td>\n      <td>0.924</td>\n      <td>South Asia</td>\n    </tr>\n  </tbody>\n</table>\n<p>2098 rows × 10 columns</p>\n</div>"
          },
          "metadata": {}
        }
      ]
    },
    {
      "cell_type": "markdown",
      "source": "",
      "metadata": {}
    },
    {
      "cell_type": "markdown",
      "source": "Ya tenemos el dataframe final (DF_Final) para poder contestar las preguntas.",
      "metadata": {}
    },
    {
      "cell_type": "markdown",
      "source": "",
      "metadata": {}
    },
    {
      "cell_type": "markdown",
      "source": "1. ¿Cuál es el país más “feliz” del 2021 según la data? (considerar que la columna “Ladder score” mayor número más feliz es el país)",
      "metadata": {}
    },
    {
      "cell_type": "markdown",
      "source": "",
      "metadata": {}
    },
    {
      "cell_type": "markdown",
      "source": "Primero filtramos el año y luego vamos a recoger el indice máximo de la columna Ladder",
      "metadata": {}
    },
    {
      "cell_type": "code",
      "source": "paises_del_2021 = DF_Final.query('Anio==2021')\nindice_mas_alto = paises_del_2021['Ladder'].idxmax()\npais_mas_feliz = paises_del_2021.loc[indice_mas_alto, 'Pais']",
      "metadata": {
        "trusted": true
      },
      "execution_count": 79,
      "outputs": []
    },
    {
      "cell_type": "code",
      "source": "pais_mas_feliz",
      "metadata": {
        "trusted": true
      },
      "execution_count": 80,
      "outputs": [
        {
          "execution_count": 80,
          "output_type": "execute_result",
          "data": {
            "text/plain": "'Finland'"
          },
          "metadata": {}
        }
      ]
    },
    {
      "cell_type": "markdown",
      "source": "",
      "metadata": {}
    },
    {
      "cell_type": "markdown",
      "source": "\n2. ¿Cuál es el país más “feliz” del 2021 por continente según la data?\n\n",
      "metadata": {}
    },
    {
      "cell_type": "markdown",
      "source": "",
      "metadata": {}
    },
    {
      "cell_type": "markdown",
      "source": "Ahora filtraremos por regiones, agrupándolo, también voy a tener que hacer uso de la librería numpy\n",
      "metadata": {}
    },
    {
      "cell_type": "code",
      "source": "import numpy as np",
      "metadata": {
        "trusted": true
      },
      "execution_count": 81,
      "outputs": []
    },
    {
      "cell_type": "code",
      "source": "condiciones = [\n    DF_Final['Region'].isin([\"Western Europe\", \"Central and Eastern Europe\"]),\n    DF_Final['Region'].isin([\"North America and ANZ\", \"Latin America and Caribbean\"]),\n    DF_Final['Region'].isin([\"Middle East and North Africa\", \"Sub-Saharan Africa\"]),\n    DF_Final['Region'].isin([\"East Asia\", \"Southeast Asia\", \"South Asia\"]),\n    DF_Final['Region'].isin([\"Commonwealth of Independent States\"]),\n]\n\nopciones = [\"Europe\", \"Americas and Oceania\", \"Africa\", \"Asia\", \"Other\"]\n\n# Creamos una nueva columna \"Continente\" utilizando np.select\nDF_Final['Continente'] = np.select(condiciones, opciones, default=None)\n",
      "metadata": {
        "trusted": true
      },
      "execution_count": 84,
      "outputs": []
    },
    {
      "cell_type": "code",
      "source": "DF_Final",
      "metadata": {
        "trusted": true
      },
      "execution_count": 85,
      "outputs": [
        {
          "execution_count": 85,
          "output_type": "execute_result",
          "data": {
            "text/plain": "            Pais  Anio  Ladder    PIB  Ayudas sociales  Esperanza de vida  \\\n0    Afghanistan  2008   3.724  7.370            0.451             50.800   \n1    Afghanistan  2009   4.402  7.540            0.552             51.200   \n2    Afghanistan  2010   4.758  7.647            0.539             51.600   \n3    Afghanistan  2011   3.832  7.620            0.521             51.920   \n4    Afghanistan  2012   3.783  7.705            0.521             52.240   \n..           ...   ...     ...    ...              ...                ...   \n144      Lesotho  2021   3.512  7.926            0.787             48.700   \n145     Botswana  2021   3.467  9.782            0.784             59.269   \n146       Rwanda  2021   3.415  7.676            0.552             61.400   \n147     Zimbabwe  2021   3.145  7.943            0.750             56.201   \n148  Afghanistan  2021   2.523  7.695            0.463             52.493   \n\n     Libertad  Generosidad  Percepcion de la Corrupcion              Region  \\\n0       0.718        0.168                        0.882                 NaN   \n1       0.679        0.190                        0.850                 NaN   \n2       0.600        0.121                        0.707                 NaN   \n3       0.496        0.162                        0.731                 NaN   \n4       0.531        0.236                        0.776                 NaN   \n..        ...          ...                          ...                 ...   \n144     0.715       -0.131                        0.915  Sub-Saharan Africa   \n145     0.824       -0.246                        0.801  Sub-Saharan Africa   \n146     0.897        0.061                        0.167  Sub-Saharan Africa   \n147     0.677       -0.047                        0.821  Sub-Saharan Africa   \n148     0.382       -0.102                        0.924          South Asia   \n\n    Continente  \n0         None  \n1         None  \n2         None  \n3         None  \n4         None  \n..         ...  \n144     Africa  \n145     Africa  \n146     Africa  \n147     Africa  \n148       Asia  \n\n[2098 rows x 11 columns]",
            "text/html": "<div>\n<style scoped>\n    .dataframe tbody tr th:only-of-type {\n        vertical-align: middle;\n    }\n\n    .dataframe tbody tr th {\n        vertical-align: top;\n    }\n\n    .dataframe thead th {\n        text-align: right;\n    }\n</style>\n<table border=\"1\" class=\"dataframe\">\n  <thead>\n    <tr style=\"text-align: right;\">\n      <th></th>\n      <th>Pais</th>\n      <th>Anio</th>\n      <th>Ladder</th>\n      <th>PIB</th>\n      <th>Ayudas sociales</th>\n      <th>Esperanza de vida</th>\n      <th>Libertad</th>\n      <th>Generosidad</th>\n      <th>Percepcion de la Corrupcion</th>\n      <th>Region</th>\n      <th>Continente</th>\n    </tr>\n  </thead>\n  <tbody>\n    <tr>\n      <th>0</th>\n      <td>Afghanistan</td>\n      <td>2008</td>\n      <td>3.724</td>\n      <td>7.370</td>\n      <td>0.451</td>\n      <td>50.800</td>\n      <td>0.718</td>\n      <td>0.168</td>\n      <td>0.882</td>\n      <td>NaN</td>\n      <td>None</td>\n    </tr>\n    <tr>\n      <th>1</th>\n      <td>Afghanistan</td>\n      <td>2009</td>\n      <td>4.402</td>\n      <td>7.540</td>\n      <td>0.552</td>\n      <td>51.200</td>\n      <td>0.679</td>\n      <td>0.190</td>\n      <td>0.850</td>\n      <td>NaN</td>\n      <td>None</td>\n    </tr>\n    <tr>\n      <th>2</th>\n      <td>Afghanistan</td>\n      <td>2010</td>\n      <td>4.758</td>\n      <td>7.647</td>\n      <td>0.539</td>\n      <td>51.600</td>\n      <td>0.600</td>\n      <td>0.121</td>\n      <td>0.707</td>\n      <td>NaN</td>\n      <td>None</td>\n    </tr>\n    <tr>\n      <th>3</th>\n      <td>Afghanistan</td>\n      <td>2011</td>\n      <td>3.832</td>\n      <td>7.620</td>\n      <td>0.521</td>\n      <td>51.920</td>\n      <td>0.496</td>\n      <td>0.162</td>\n      <td>0.731</td>\n      <td>NaN</td>\n      <td>None</td>\n    </tr>\n    <tr>\n      <th>4</th>\n      <td>Afghanistan</td>\n      <td>2012</td>\n      <td>3.783</td>\n      <td>7.705</td>\n      <td>0.521</td>\n      <td>52.240</td>\n      <td>0.531</td>\n      <td>0.236</td>\n      <td>0.776</td>\n      <td>NaN</td>\n      <td>None</td>\n    </tr>\n    <tr>\n      <th>...</th>\n      <td>...</td>\n      <td>...</td>\n      <td>...</td>\n      <td>...</td>\n      <td>...</td>\n      <td>...</td>\n      <td>...</td>\n      <td>...</td>\n      <td>...</td>\n      <td>...</td>\n      <td>...</td>\n    </tr>\n    <tr>\n      <th>144</th>\n      <td>Lesotho</td>\n      <td>2021</td>\n      <td>3.512</td>\n      <td>7.926</td>\n      <td>0.787</td>\n      <td>48.700</td>\n      <td>0.715</td>\n      <td>-0.131</td>\n      <td>0.915</td>\n      <td>Sub-Saharan Africa</td>\n      <td>Africa</td>\n    </tr>\n    <tr>\n      <th>145</th>\n      <td>Botswana</td>\n      <td>2021</td>\n      <td>3.467</td>\n      <td>9.782</td>\n      <td>0.784</td>\n      <td>59.269</td>\n      <td>0.824</td>\n      <td>-0.246</td>\n      <td>0.801</td>\n      <td>Sub-Saharan Africa</td>\n      <td>Africa</td>\n    </tr>\n    <tr>\n      <th>146</th>\n      <td>Rwanda</td>\n      <td>2021</td>\n      <td>3.415</td>\n      <td>7.676</td>\n      <td>0.552</td>\n      <td>61.400</td>\n      <td>0.897</td>\n      <td>0.061</td>\n      <td>0.167</td>\n      <td>Sub-Saharan Africa</td>\n      <td>Africa</td>\n    </tr>\n    <tr>\n      <th>147</th>\n      <td>Zimbabwe</td>\n      <td>2021</td>\n      <td>3.145</td>\n      <td>7.943</td>\n      <td>0.750</td>\n      <td>56.201</td>\n      <td>0.677</td>\n      <td>-0.047</td>\n      <td>0.821</td>\n      <td>Sub-Saharan Africa</td>\n      <td>Africa</td>\n    </tr>\n    <tr>\n      <th>148</th>\n      <td>Afghanistan</td>\n      <td>2021</td>\n      <td>2.523</td>\n      <td>7.695</td>\n      <td>0.463</td>\n      <td>52.493</td>\n      <td>0.382</td>\n      <td>-0.102</td>\n      <td>0.924</td>\n      <td>South Asia</td>\n      <td>Asia</td>\n    </tr>\n  </tbody>\n</table>\n<p>2098 rows × 11 columns</p>\n</div>"
          },
          "metadata": {}
        }
      ]
    },
    {
      "cell_type": "markdown",
      "source": "",
      "metadata": {}
    },
    {
      "cell_type": "markdown",
      "source": "Ahora ya puedo hacer la consulta de mejor forma, con la agrupacion del continente y el ladder a la vez",
      "metadata": {}
    },
    {
      "cell_type": "markdown",
      "source": "",
      "metadata": {}
    },
    {
      "cell_type": "code",
      "source": "paises_del_2021 = DF_Final.query('Anio==2021')\nDF_Final_pais_continente = paises_del_2021[[\"Anio\",\"Pais\", \"Continente\", \"Ladder\"]]\n\n# Calcular el puntaje máximo por continente\nMaximo_continente = DF_Final_pais_continente.groupby(\"Continente\")[\"Ladder\"].max().reset_index()\n\n# Unir los DataFrames originales y el DataFrame con puntajes máximos\nPaises_mas_felices_por_continente = pd.merge(DF_Final_pais_continente, Maximo_continente, on=[\"Continente\", \"Ladder\"], how=\"inner\")\n",
      "metadata": {
        "trusted": true
      },
      "execution_count": 92,
      "outputs": []
    },
    {
      "cell_type": "markdown",
      "source": "",
      "metadata": {}
    },
    {
      "cell_type": "markdown",
      "source": "Ahora mostramos la información completa y ordenada",
      "metadata": {}
    },
    {
      "cell_type": "code",
      "source": "Paises_mas_felices_por_continente",
      "metadata": {
        "trusted": true
      },
      "execution_count": 93,
      "outputs": [
        {
          "execution_count": 93,
          "output_type": "execute_result",
          "data": {
            "text/plain": "   Anio                      Pais            Continente  Ladder\n0  2021                   Finland                Europe   7.842\n1  2021               New Zealand  Americas and Oceania   7.277\n2  2021                    Israel                Africa   7.157\n3  2021  Taiwan Province of China                  Asia   6.584\n4  2021                Uzbekistan                 Other   6.179",
            "text/html": "<div>\n<style scoped>\n    .dataframe tbody tr th:only-of-type {\n        vertical-align: middle;\n    }\n\n    .dataframe tbody tr th {\n        vertical-align: top;\n    }\n\n    .dataframe thead th {\n        text-align: right;\n    }\n</style>\n<table border=\"1\" class=\"dataframe\">\n  <thead>\n    <tr style=\"text-align: right;\">\n      <th></th>\n      <th>Anio</th>\n      <th>Pais</th>\n      <th>Continente</th>\n      <th>Ladder</th>\n    </tr>\n  </thead>\n  <tbody>\n    <tr>\n      <th>0</th>\n      <td>2021</td>\n      <td>Finland</td>\n      <td>Europe</td>\n      <td>7.842</td>\n    </tr>\n    <tr>\n      <th>1</th>\n      <td>2021</td>\n      <td>New Zealand</td>\n      <td>Americas and Oceania</td>\n      <td>7.277</td>\n    </tr>\n    <tr>\n      <th>2</th>\n      <td>2021</td>\n      <td>Israel</td>\n      <td>Africa</td>\n      <td>7.157</td>\n    </tr>\n    <tr>\n      <th>3</th>\n      <td>2021</td>\n      <td>Taiwan Province of China</td>\n      <td>Asia</td>\n      <td>6.584</td>\n    </tr>\n    <tr>\n      <th>4</th>\n      <td>2021</td>\n      <td>Uzbekistan</td>\n      <td>Other</td>\n      <td>6.179</td>\n    </tr>\n  </tbody>\n</table>\n</div>"
          },
          "metadata": {}
        }
      ]
    },
    {
      "cell_type": "markdown",
      "source": "\n3. ¿Cuál es el país que más veces ocupó el primer lugar en todos los años?\n",
      "metadata": {}
    },
    {
      "cell_type": "markdown",
      "source": "Para poder realizar el conteo, tendremos que añadir un ranking al DF_Final, para ello utilizaremos el método dense de pandas, que hace el ranking segun parametros\nen este caso le pasamos el año y el ladder, y con ello ya calcula el ranking de cada registro del dataframe",
      "metadata": {}
    },
    {
      "cell_type": "code",
      "source": "DF_Final['rank'] = DF_Final.groupby('Anio')['Ladder'].rank(ascending=False, method='dense')",
      "metadata": {
        "trusted": true
      },
      "execution_count": 94,
      "outputs": []
    },
    {
      "cell_type": "markdown",
      "source": "Ahora agrupamos por país y contabilizamos el número de veces que ha estado en el nº1 del ranking cada país.",
      "metadata": {}
    },
    {
      "cell_type": "code",
      "source": "Conteo = DF_Final[DF_Final['rank'] == 1].groupby('Pais').size().reset_index(name='Cuantas veces')",
      "metadata": {
        "trusted": true
      },
      "execution_count": 95,
      "outputs": []
    },
    {
      "cell_type": "markdown",
      "source": "Ahora lo ordenamos para poder mostralo correctamente, y ver que país está en la primera posición del conteo de ranking, en este caso utlizamos la posción 0 que la primera en Python dentro de una lista",
      "metadata": {}
    },
    {
      "cell_type": "code",
      "source": "Pais_mas_veces_primero = Conteo.sort_values(by='Cuantas veces', ascending=False).iloc[0]",
      "metadata": {
        "trusted": true
      },
      "execution_count": 96,
      "outputs": []
    },
    {
      "cell_type": "code",
      "source": "Pais_mas_veces_primero",
      "metadata": {
        "trusted": true
      },
      "execution_count": 99,
      "outputs": [
        {
          "execution_count": 99,
          "output_type": "execute_result",
          "data": {
            "text/plain": "Pais             Denmark\nCuantas veces          7\nName: 1, dtype: object"
          },
          "metadata": {}
        }
      ]
    },
    {
      "cell_type": "markdown",
      "source": "",
      "metadata": {}
    },
    {
      "cell_type": "markdown",
      "source": "4. ¿Qué puesto de Felicidad tiene el país con mayor GDP del 2020?",
      "metadata": {}
    },
    {
      "cell_type": "markdown",
      "source": "",
      "metadata": {}
    },
    {
      "cell_type": "code",
      "source": "# Filtramos el DF_Final para obtener solo datos del año 2020\nDF_Final_para_2020 = DF_Final.query('Anio == 2020')\n\n# Buscamos el país con el mayor PIB en 2020\npais_mayor_pib = DF_Final_para_2020.loc[DF_Final_para_2020['PIB'].idxmax()]['Pais']\n\n# Sacamos el puesto de felicidad de ese país\npuesto_felicidad = DF_Final[(DF_Final['Pais'] == pais_mayor_pib) & (DF_Final['Anio'] == 2020)]['rank'].values[0]\n",
      "metadata": {
        "trusted": true
      },
      "execution_count": 108,
      "outputs": []
    },
    {
      "cell_type": "code",
      "source": "print(f\"En 2020, el país con el mayor PIB ({pais_mayor_pib}) tiene el puesto de felicidad número {puesto_felicidad}.\")",
      "metadata": {
        "trusted": true
      },
      "execution_count": 109,
      "outputs": [
        {
          "name": "stdout",
          "text": "En 2020, el país con el mayor PIB (Ireland) tiene el puesto de felicidad número 13.0.\n",
          "output_type": "stream"
        }
      ]
    },
    {
      "cell_type": "markdown",
      "source": "",
      "metadata": {}
    },
    {
      "cell_type": "markdown",
      "source": "5. ¿En que porcentaje a variado a nivel mundial el GDP promedio del 2020 respecto al 2021? ¿Aumentó o disminuyó?",
      "metadata": {}
    },
    {
      "cell_type": "code",
      "source": "DF_Final",
      "metadata": {
        "trusted": true
      },
      "execution_count": 112,
      "outputs": [
        {
          "execution_count": 112,
          "output_type": "execute_result",
          "data": {
            "text/plain": "            Pais  Anio  Ladder    PIB  Ayudas sociales  Esperanza de vida  \\\n0    Afghanistan  2008   3.724  7.370            0.451             50.800   \n1    Afghanistan  2009   4.402  7.540            0.552             51.200   \n2    Afghanistan  2010   4.758  7.647            0.539             51.600   \n3    Afghanistan  2011   3.832  7.620            0.521             51.920   \n4    Afghanistan  2012   3.783  7.705            0.521             52.240   \n..           ...   ...     ...    ...              ...                ...   \n144      Lesotho  2021   3.512  7.926            0.787             48.700   \n145     Botswana  2021   3.467  9.782            0.784             59.269   \n146       Rwanda  2021   3.415  7.676            0.552             61.400   \n147     Zimbabwe  2021   3.145  7.943            0.750             56.201   \n148  Afghanistan  2021   2.523  7.695            0.463             52.493   \n\n     Libertad  Generosidad  Percepcion de la Corrupcion              Region  \\\n0       0.718        0.168                        0.882                 NaN   \n1       0.679        0.190                        0.850                 NaN   \n2       0.600        0.121                        0.707                 NaN   \n3       0.496        0.162                        0.731                 NaN   \n4       0.531        0.236                        0.776                 NaN   \n..        ...          ...                          ...                 ...   \n144     0.715       -0.131                        0.915  Sub-Saharan Africa   \n145     0.824       -0.246                        0.801  Sub-Saharan Africa   \n146     0.897        0.061                        0.167  Sub-Saharan Africa   \n147     0.677       -0.047                        0.821  Sub-Saharan Africa   \n148     0.382       -0.102                        0.924          South Asia   \n\n    Continente   rank  \n0         None  102.0  \n1         None   96.0  \n2         None   81.0  \n3         None  136.0  \n4         None  133.0  \n..         ...    ...  \n144     Africa  143.0  \n145     Africa  144.0  \n146     Africa  145.0  \n147     Africa  146.0  \n148       Asia  147.0  \n\n[2098 rows x 12 columns]",
            "text/html": "<div>\n<style scoped>\n    .dataframe tbody tr th:only-of-type {\n        vertical-align: middle;\n    }\n\n    .dataframe tbody tr th {\n        vertical-align: top;\n    }\n\n    .dataframe thead th {\n        text-align: right;\n    }\n</style>\n<table border=\"1\" class=\"dataframe\">\n  <thead>\n    <tr style=\"text-align: right;\">\n      <th></th>\n      <th>Pais</th>\n      <th>Anio</th>\n      <th>Ladder</th>\n      <th>PIB</th>\n      <th>Ayudas sociales</th>\n      <th>Esperanza de vida</th>\n      <th>Libertad</th>\n      <th>Generosidad</th>\n      <th>Percepcion de la Corrupcion</th>\n      <th>Region</th>\n      <th>Continente</th>\n      <th>rank</th>\n    </tr>\n  </thead>\n  <tbody>\n    <tr>\n      <th>0</th>\n      <td>Afghanistan</td>\n      <td>2008</td>\n      <td>3.724</td>\n      <td>7.370</td>\n      <td>0.451</td>\n      <td>50.800</td>\n      <td>0.718</td>\n      <td>0.168</td>\n      <td>0.882</td>\n      <td>NaN</td>\n      <td>None</td>\n      <td>102.0</td>\n    </tr>\n    <tr>\n      <th>1</th>\n      <td>Afghanistan</td>\n      <td>2009</td>\n      <td>4.402</td>\n      <td>7.540</td>\n      <td>0.552</td>\n      <td>51.200</td>\n      <td>0.679</td>\n      <td>0.190</td>\n      <td>0.850</td>\n      <td>NaN</td>\n      <td>None</td>\n      <td>96.0</td>\n    </tr>\n    <tr>\n      <th>2</th>\n      <td>Afghanistan</td>\n      <td>2010</td>\n      <td>4.758</td>\n      <td>7.647</td>\n      <td>0.539</td>\n      <td>51.600</td>\n      <td>0.600</td>\n      <td>0.121</td>\n      <td>0.707</td>\n      <td>NaN</td>\n      <td>None</td>\n      <td>81.0</td>\n    </tr>\n    <tr>\n      <th>3</th>\n      <td>Afghanistan</td>\n      <td>2011</td>\n      <td>3.832</td>\n      <td>7.620</td>\n      <td>0.521</td>\n      <td>51.920</td>\n      <td>0.496</td>\n      <td>0.162</td>\n      <td>0.731</td>\n      <td>NaN</td>\n      <td>None</td>\n      <td>136.0</td>\n    </tr>\n    <tr>\n      <th>4</th>\n      <td>Afghanistan</td>\n      <td>2012</td>\n      <td>3.783</td>\n      <td>7.705</td>\n      <td>0.521</td>\n      <td>52.240</td>\n      <td>0.531</td>\n      <td>0.236</td>\n      <td>0.776</td>\n      <td>NaN</td>\n      <td>None</td>\n      <td>133.0</td>\n    </tr>\n    <tr>\n      <th>...</th>\n      <td>...</td>\n      <td>...</td>\n      <td>...</td>\n      <td>...</td>\n      <td>...</td>\n      <td>...</td>\n      <td>...</td>\n      <td>...</td>\n      <td>...</td>\n      <td>...</td>\n      <td>...</td>\n      <td>...</td>\n    </tr>\n    <tr>\n      <th>144</th>\n      <td>Lesotho</td>\n      <td>2021</td>\n      <td>3.512</td>\n      <td>7.926</td>\n      <td>0.787</td>\n      <td>48.700</td>\n      <td>0.715</td>\n      <td>-0.131</td>\n      <td>0.915</td>\n      <td>Sub-Saharan Africa</td>\n      <td>Africa</td>\n      <td>143.0</td>\n    </tr>\n    <tr>\n      <th>145</th>\n      <td>Botswana</td>\n      <td>2021</td>\n      <td>3.467</td>\n      <td>9.782</td>\n      <td>0.784</td>\n      <td>59.269</td>\n      <td>0.824</td>\n      <td>-0.246</td>\n      <td>0.801</td>\n      <td>Sub-Saharan Africa</td>\n      <td>Africa</td>\n      <td>144.0</td>\n    </tr>\n    <tr>\n      <th>146</th>\n      <td>Rwanda</td>\n      <td>2021</td>\n      <td>3.415</td>\n      <td>7.676</td>\n      <td>0.552</td>\n      <td>61.400</td>\n      <td>0.897</td>\n      <td>0.061</td>\n      <td>0.167</td>\n      <td>Sub-Saharan Africa</td>\n      <td>Africa</td>\n      <td>145.0</td>\n    </tr>\n    <tr>\n      <th>147</th>\n      <td>Zimbabwe</td>\n      <td>2021</td>\n      <td>3.145</td>\n      <td>7.943</td>\n      <td>0.750</td>\n      <td>56.201</td>\n      <td>0.677</td>\n      <td>-0.047</td>\n      <td>0.821</td>\n      <td>Sub-Saharan Africa</td>\n      <td>Africa</td>\n      <td>146.0</td>\n    </tr>\n    <tr>\n      <th>148</th>\n      <td>Afghanistan</td>\n      <td>2021</td>\n      <td>2.523</td>\n      <td>7.695</td>\n      <td>0.463</td>\n      <td>52.493</td>\n      <td>0.382</td>\n      <td>-0.102</td>\n      <td>0.924</td>\n      <td>South Asia</td>\n      <td>Asia</td>\n      <td>147.0</td>\n    </tr>\n  </tbody>\n</table>\n<p>2098 rows × 12 columns</p>\n</div>"
          },
          "metadata": {}
        }
      ]
    },
    {
      "cell_type": "code",
      "source": "# Filtramos el DF_Final para obtener datos del 2020 y 2021\nDF_Final_para_20 = DF_Final.query('Anio == 2020')\nDF_Final_para_21 = DF_Final.query('Anio == 2021')\n\n# PIB promedio para cada año\npib_promedio_2020 = DF_Final_para_20['PIB'].mean()\npib_promedio_2021 = DF_Final_para_21['PIB'].mean()\n\n# Porcentaje de variación\nvariacion_porcentaje = ((pib_promedio_2021 - pib_promedio_2020) / pib_promedio_2020) * 100\n\n# ¿aumentó o disminuyó?\nif variacion_porcentaje > 0:\n    res = f\"aumentó en un {abs(variacion_porcentaje):.2f}%\"\nelif variacion_porcentaje < 0:\n    res = f\"disminuyó en un {abs(variacion_porcentaje):.2f}%\"\nelse:\n    res = \"no tuvo variación\"\n\nprint(f\"El GDP promedio a nivel mundial, {res} del 2020 al 2021\")",
      "metadata": {
        "trusted": true
      },
      "execution_count": 119,
      "outputs": [
        {
          "name": "stdout",
          "text": "El GDP promedio a nivel mundial, disminuyó en un 3.27% del 2020 al 2021\n",
          "output_type": "stream"
        }
      ]
    },
    {
      "cell_type": "markdown",
      "source": "",
      "metadata": {}
    },
    {
      "cell_type": "markdown",
      "source": "6. ¿Cuál es el país con mayor expectativa de vide (“Healthy life expectancy at birth”)? Y ¿Cuánto tenia en ese indicador en el 2019?",
      "metadata": {}
    },
    {
      "cell_type": "markdown",
      "source": "",
      "metadata": {}
    },
    {
      "cell_type": "code",
      "source": "# Copiamos el DF_Final para obtener no dañar el original y poder trabajar con él por completo\nDF_Final_esperanza_vida = DF_Final.copy()\n\n# País con la mayor esperanza de vida en general\npais_max_expectativa = DF_Final_esperanza_vida.loc[DF_Final_esperanza_vida['Esperanza de vida'].idxmax()]['Pais']\n\n# Valor de esperanza de vida saludable para el pais que sale en el paso anterior\nvalor_expectativa = DF_Final_esperanza_vida[DF_Final_esperanza_vida['Pais'] == pais_max_expectativa]['Esperanza de vida'].values[0]\n\nprint(f\"En general, con el data que tenemos en el dataframe, el país con la mayor esperanza de vida es {pais_max_expectativa} con un valor de {valor_expectativa:.2f} años\")\n\n\n#Ahora respondemos a la segunda pregunta del ejercicio, que es lo mismo que el punto anterior, pero para el año 2019 en concreto\n\n# Filtramos el DF_Final para obtener datos del año 2019\nDF_Final_para_19 = DF_Final.query('Anio == 2019')\n\n# País con la mayor esperanza de vida en 2019\npais_max_expectativa_2019 = DF_Final_para_19.loc[DF_Final_para_19['Esperanza de vida'].idxmax()]['Pais']\n\n# Valor de esperanza de vida saludable para el pais que sale en el paso anterior\nvalor_expectativa_2019 = DF_Final_para_19[DF_Final_para_19['Pais'] == pais_max_expectativa_2019]['Esperanza de vida'].values[0]\n\nprint(f\"En 2019, el país con la mayor esperanza de vida es {pais_max_expectativa_2019} con un valor de {valor_expectativa_2019:.2f} años\")\n",
      "metadata": {
        "trusted": true
      },
      "execution_count": 120,
      "outputs": [
        {
          "name": "stdout",
          "text": "En general, con el data que tenemos en el dataframe, el país con la mayor esperanza de vida es Singapore con un valor de 73.60 años\nEn 2019, el país con la mayor esperanza de vida es Singapore con un valor de 77.10 años\n",
          "output_type": "stream"
        }
      ]
    },
    {
      "cell_type": "markdown",
      "source": "",
      "metadata": {}
    }
  ]
}